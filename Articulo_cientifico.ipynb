{
  "nbformat": 4,
  "nbformat_minor": 0,
  "metadata": {
    "colab": {
      "provenance": [],
      "authorship_tag": "ABX9TyOKj9QQJdJsFk6Ij0rzgVG7",
      "include_colab_link": true
    },
    "kernelspec": {
      "name": "python3",
      "display_name": "Python 3"
    },
    "language_info": {
      "name": "python"
    }
  },
  "cells": [
    {
      "cell_type": "markdown",
      "metadata": {
        "id": "view-in-github",
        "colab_type": "text"
      },
      "source": [
        "<a href=\"https://colab.research.google.com/github/StevenMena/07MIAR_RedesNeu_DeepLearning/blob/main/Articulo_cientifico.ipynb\" target=\"_parent\"><img src=\"https://colab.research.google.com/assets/colab-badge.svg\" alt=\"Open In Colab\"/></a>"
      ]
    },
    {
      "cell_type": "code",
      "execution_count": 4,
      "metadata": {
        "colab": {
          "base_uri": "https://localhost:8080/"
        },
        "id": "oNjBL2w24uhP",
        "outputId": "3b1b406b-6eaf-4714-ff2c-dc4ce7d1a45f"
      },
      "outputs": [
        {
          "output_type": "stream",
          "name": "stdout",
          "text": [
            "Model: \"model_2\"\n",
            "_________________________________________________________________\n",
            " Layer (type)                Output Shape              Param #   \n",
            "=================================================================\n",
            " input_3 (InputLayer)        [(None, 128, 128, 3)]     0         \n",
            "                                                                 \n",
            " conv2d_6 (Conv2D)           (None, 128, 128, 64)      1792      \n",
            "                                                                 \n",
            " conv2d_7 (Conv2D)           (None, 64, 64, 128)       73856     \n",
            "                                                                 \n",
            " conv2d_8 (Conv2D)           (None, 32, 32, 256)       295168    \n",
            "                                                                 \n",
            " conv2d_transpose_4 (Conv2DT  (None, 64, 64, 32)       73760     \n",
            " ranspose)                                                       \n",
            "                                                                 \n",
            " conv2d_transpose_5 (Conv2DT  (None, 128, 128, 32)     9248      \n",
            " ranspose)                                                       \n",
            "                                                                 \n",
            " conv2d_9 (Conv2D)           (None, 128, 128, 1)       289       \n",
            "                                                                 \n",
            "=================================================================\n",
            "Total params: 454,113\n",
            "Trainable params: 454,113\n",
            "Non-trainable params: 0\n",
            "_________________________________________________________________\n"
          ]
        }
      ],
      "source": [
        "import numpy as np\n",
        "import tensorflow as tf\n",
        "import matplotlib.pyplot as plt\n",
        "\n",
        "from tensorflow.keras import layers\n",
        "from tensorflow.keras.datasets import mnist\n",
        "from tensorflow.keras.models import Model\n",
        "\n",
        "input = layers.Input(shape=(128, 128, 3))\n",
        "\n",
        "# Encoder\n",
        "x = layers.Conv2D(64, (3, 3), strides=(1, 1), activation=\"relu\", padding=\"same\")(input)\n",
        "x = layers.Conv2D(128, (3, 3),strides=(2, 2), activation=\"relu\", padding=\"same\")(x)\n",
        "x = layers.Conv2D(256, (3, 3),strides=(2, 2), activation=\"relu\", padding=\"same\")(x)\n",
        "\n",
        "#bottleneck\n",
        "\n",
        "# Decoder\n",
        "x = BatchNormalization()(x)\n",
        "x = layers.Conv2DTranspose(128, (3, 3), strides=2, activation=\"relu\", padding=\"same\")(x)\n",
        "x = BatchNormalization()(x)\n",
        "x = layers.Conv2DTranspose(64, (3, 3), strides=2, activation=\"relu\", padding=\"same\")(x)\n",
        "x = layers.Conv2D(1, (3, 3), activation=\"sigmoid\", padding=\"same\")(x)\n",
        "\n",
        "# Autoencoder\n",
        "autoencoder = Model(input, x)\n",
        "autoencoder.compile(optimizer=\"adam\", loss=\"binary_crossentropy\")\n",
        "autoencoder.summary()"
      ]
    }
  ]
}